{
 "cells": [
  {
   "cell_type": "code",
   "execution_count": null,
   "source": [
    "from azureml.core import Workspace, Experiment\r\n",
    "\r\n",
    "#ws = Workspace.get(name=\"udacity-project\")\r\n",
    "ws = Workspace.from_config()  # using the current workspace (Lab)  SOURCE: https://docs.microsoft.com/en-us/python/api/azureml-core/azureml.core.workspace.workspace?view=azure-ml-py\r\n",
    "exp = Experiment(workspace=ws, name=\"udacity-project\")\r\n",
    "\r\n",
    "print('Workspace name: ' + ws.name, \r\n",
    "      'Azure region: ' + ws.location, \r\n",
    "      'Subscription id: ' + ws.subscription_id, \r\n",
    "      'Resource group: ' + ws.resource_group, sep = '\\n')\r\n",
    "\r\n",
    "run = exp.start_logging()"
   ],
   "outputs": [],
   "metadata": {
    "gather": {
     "logged": 1598275788035
    }
   }
  },
  {
   "cell_type": "code",
   "execution_count": null,
   "source": [
    "from azureml.core.compute import ComputeTarget, AmlCompute\r\n",
    "from azureml.core.compute_target import ComputeTargetException\r\n",
    "\r\n",
    "# TODO: Create compute cluster\r\n",
    "# Use vm_size = \"Standard_D2_V2\" in your provisioning configuration.\r\n",
    "# max_nodes should be no greater than 4.\r\n",
    "\r\n",
    "cluster_name = \"myCluster\"\r\n",
    "try:\r\n",
    "    cluster = ComputeTarget(workspace=ws, name=cluster_name)\r\n",
    "    print(\"Cluster already created\")\r\n",
    "except ComputeTargetException:\r\n",
    "    compute_config = AmlCompute.provisioning_configuration(vm_size=\"STANDARD_D2_V2\",max_nodes=4) #define the config needed (D2V2 and max 4 nodes)\r\n",
    "    cluster = ComputeTarget.create(ws,cluster_name, compute_config) #creates the actual cluster\r\n",
    "\r\n",
    "cluster.wait_for_completion(show_output=True)  #Allows to continus on other threads while cluster is being created\r\n",
    "\r\n",
    "\r\n",
    "#SOURCE / HELP: https://docs.microsoft.com/en-us/python/api/azureml-core/azureml.core.compute.amlcompute.amlcompute?view=azure-ml-py"
   ],
   "outputs": [],
   "metadata": {
    "gather": {
     "logged": 1598275788675
    },
    "jupyter": {
     "outputs_hidden": false,
     "source_hidden": false
    },
    "nteract": {
     "transient": {
      "deleting": false
     }
    }
   }
  },
  {
   "cell_type": "code",
   "execution_count": null,
   "source": [
    "from azureml.widgets import RunDetails\r\n",
    "from azureml.train.sklearn import SKLearn\r\n",
    "from azureml.train.hyperdrive.run import PrimaryMetricGoal\r\n",
    "from azureml.train.hyperdrive.policy import BanditPolicy\r\n",
    "from azureml.train.hyperdrive.sampling import RandomParameterSampling\r\n",
    "from azureml.train.hyperdrive.runconfig import HyperDriveConfig\r\n",
    "from azureml.train.hyperdrive.parameter_expressions import uniform\r\n",
    "import os\r\n",
    "\r\n",
    "# Specify parameter sampler\r\n",
    "ps = RandomParameterSampling({\r\n",
    "        \"keep_probability\": uniform(0.05, 0.1)\r\n",
    "})\r\n",
    "\r\n",
    "#SOURCE / HELP: https://docs.microsoft.com/en-us/azure/machine-learning/how-to-tune-hyperparameters\r\n",
    "\r\n",
    "# Specify a Policy\r\n",
    "policy = BanditPolicy(evaluation_interval=3, slack_factor=0.1)\r\n",
    "\r\n",
    "#Really not sure of parameters, I believe this could be better tweaked\r\n",
    "\r\n",
    "#SOURCE / HELP : https://docs.microsoft.com/en-us/python/api/azureml-train-core/azureml.train.hyperdrive.banditpolicy?view=azure-ml-py\r\n",
    "\r\n",
    "#Creates Training folder\r\n",
    "if \"training\" not in os.listdir():\r\n",
    "    os.mkdir(\"./training\")\r\n",
    "\r\n",
    "# Create a SKLearn estimator for use with train.py\r\n",
    "est = SKLearn(source_directory=\"./training\",entry_script=\"train.py\",compute_target=cluster)\r\n",
    "\r\n",
    "#SOURCE / HELP : https://docs.microsoft.com/en-us/python/api/azureml-train-core/azureml.train.sklearn.sklearn?view=azure-ml-py\r\n",
    "\r\n",
    "# Create a HyperDriveConfig using the estimator, hyperparameter sampler, and policy.\r\n",
    "https://docs.microsoft.com/en-us/python/api/overview/azure/ml/?view=azure-ml-py",
    "\r\n",
    "#not sure of primary metric, not much info on data...",
    "\r\n",
    "#SOURCE / HELP : https://docs.microsoft.com/en-us/python/api/azureml-train-core/azureml.train.hyperdrive.hyperdriveconfig?view=azure-ml-py",
   ],
   "outputs": [],
   "metadata": {
    "gather": {
     "logged": 1598275789986
    },
    "jupyter": {
     "outputs_hidden": false,
     "source_hidden": false
    },
    "nteract": {
     "transient": {
      "deleting": false
     }
    }
   }
  },
  {
   "cell_type": "code",
   "execution_count": null,
   "source": [
    "# Submit your hyperdrive run to the experiment and show run details with the widget.\r\n",
    "\r\n",
    "### YOUR CODE HERE ###"
   ],
   "outputs": [],
   "metadata": {}
  },
  {
   "cell_type": "code",
   "execution_count": null,
   "source": [
    "import joblib\r\n",
    "# Get your best run and save the model from that run.\r\n",
    "\r\n",
    "### YOUR CODE HERE ###"
   ],
   "outputs": [],
   "metadata": {
    "gather": {
     "logged": 1598276310862
    },
    "jupyter": {
     "outputs_hidden": false,
     "source_hidden": false
    },
    "nteract": {
     "transient": {
      "deleting": false
     }
    }
   }
  },
  {
   "cell_type": "code",
   "execution_count": null,
   "source": [
    "from azureml.data.dataset_factory import TabularDatasetFactory\r\n",
    "\r\n",
    "# Create TabularDataset using TabularDatasetFactory\r\n",
    "# Data is available at: \r\n",
    "# \"https://automlsamplenotebookdata.blob.core.windows.net/automl-sample-notebook-data/bankmarketing_train.csv\"\r\n",
    "\r\n",
    "### YOUR CODE HERE ###"
   ],
   "outputs": [],
   "metadata": {}
  },
  {
   "cell_type": "code",
   "execution_count": null,
   "source": [
    "from train import clean_data\r\n",
    "\r\n",
    "# Use the clean_data function to clean your data.\r\n",
    "x, y = clean_data(### YOUR DATA OBJECT HERE ###)"
   ],
   "outputs": [],
   "metadata": {
    "gather": {
     "logged": 1598275726969
    },
    "jupyter": {
     "outputs_hidden": false,
     "source_hidden": false
    },
    "nteract": {
     "transient": {
      "deleting": false
     }
    }
   }
  },
  {
   "cell_type": "code",
   "execution_count": null,
   "source": [
    "from azureml.train.automl import AutoMLConfig\r\n",
    "\r\n",
    "# Set parameters for AutoMLConfig\r\n",
    "# NOTE: DO NOT CHANGE THE experiment_timeout_minutes PARAMETER OR YOUR INSTANCE WILL TIME OUT.\r\n",
    "# If you wish to run the experiment longer, you will need to run this notebook in your own\r\n",
    "# Azure tenant, which will incur personal costs.\r\n",
    "automl_config = AutoMLConfig(\r\n",
    "    experiment_timeout_minutes=30,\r\n",
    "    task=,\r\n",
    "    primary_metric=,\r\n",
    "    training_data=,\r\n",
    "    label_column_name=,\r\n",
    "    n_cross_validations=)"
   ],
   "outputs": [],
   "metadata": {
    "gather": {
     "logged": 1598275665403
    },
    "jupyter": {
     "outputs_hidden": false,
     "source_hidden": false
    },
    "nteract": {
     "transient": {
      "deleting": false
     }
    }
   }
  },
  {
   "cell_type": "code",
   "execution_count": 2,
   "source": [
    "# Submit your automl run\r\n",
    "\r\n",
    "### YOUR CODE HERE ###"
   ],
   "outputs": [],
   "metadata": {
    "jupyter": {
     "outputs_hidden": false,
     "source_hidden": false
    },
    "nteract": {
     "transient": {
      "deleting": false
     }
    }
   }
  },
  {
   "cell_type": "code",
   "execution_count": null,
   "source": [
    "# Retrieve and save your best automl model.\r\n",
    "\r\n",
    "### YOUR CODE HERE ###"
   ],
   "outputs": [],
   "metadata": {}
  }
 ],
 "metadata": {
  "kernel_info": {
   "name": "python3-azureml"
  },
  "kernelspec": {
   "display_name": "Python 3",
   "language": "python",
   "name": "python3"
  },
  "language_info": {
   "codemirror_mode": {
    "name": "ipython",
    "version": 3
   },
   "file_extension": ".py",
   "mimetype": "text/x-python",
   "name": "python",
   "nbconvert_exporter": "python",
   "pygments_lexer": "ipython3",
   "version": "3.7.4"
  },
  "nteract": {
   "version": "nteract-front-end@1.0.0"
  }
 },
 "nbformat": 4,
 "nbformat_minor": 2
}
